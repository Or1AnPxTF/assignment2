{
 "cells": [
  {
   "cell_type": "markdown",
   "id": "c61b5876-5014-4f54-9760-573984eb9166",
   "metadata": {},
   "source": [
    "Q1) How do you comment code in Python? What are the different types of comments?"
   ]
  },
  {
   "cell_type": "markdown",
   "id": "65a58052-a8bd-45db-975d-edfd911dc8e6",
   "metadata": {},
   "source": [
    "Ans)We,can comment code  in python using different ways.  \n",
    "i) **Single-line comments:**The single line comment starts with '#' symbol and can be written either along with the code or before the code. Example - #pythoncomment  \n",
    "ii)**Multi-line comment:**The multi line comment is used when you have comment not ending in a single line.To represent multiline comments one can use \"#\" symbol for each line of comment or write the multiline comment in between three single quotes (''') or double quotes (\"\"\") at the start and in the end.  \n",
    "Example-#pythoncomment1  \n",
    "        #pythoncomment2  \n",
    "        #pythoncomment3   \n",
    "        \n",
    "Example-\"\"\" this is a python  \n",
    "            multi line comment\"\"\"\n",
    "\n"
   ]
  },
  {
   "cell_type": "markdown",
   "id": "6a685bf6-e010-417d-aa01-0537317e17db",
   "metadata": {},
   "source": [
    "Q2. What are variables in Python? How do you declare and assign values to variables?"
   ]
  },
  {
   "cell_type": "markdown",
   "id": "d42f0649-e7a7-4066-adbf-f09daa2bb6df",
   "metadata": {},
   "source": [
    "Ans)Variables represent labelled storage locations,whose values can be manipulated during program execution.  \n",
    "In python,to create a variable assign it with value of appropriate type.  \n",
    "Example: Student = Jacob  \n",
    "          Age = 27\n",
    "\n"
   ]
  },
  {
   "cell_type": "markdown",
   "id": "38f3e804-b180-4356-b75e-7cecbb32ba6d",
   "metadata": {},
   "source": [
    "Q3. How do you convert one data type to another in Python?"
   ]
  },
  {
   "cell_type": "markdown",
   "id": "3f76e378-273b-40e3-99d9-0846338aa925",
   "metadata": {},
   "source": [
    "Ans)Type conversion in python are of two types-   \n",
    "a)**Implicit type conversion**:It is a type of type conversion in which handles automatically convert one data type to another without any user involvement.  \n",
    "Example:"
   ]
  },
  {
   "cell_type": "code",
   "execution_count": 1,
   "id": "1a598fac-5e1f-4b9d-92a0-238fb38ae24c",
   "metadata": {},
   "outputs": [
    {
     "name": "stdout",
     "output_type": "stream",
     "text": [
      "<class 'int'>\n",
      "<class 'float'>\n",
      "98.5\n",
      "<class 'float'>\n"
     ]
    }
   ],
   "source": [
    "#implicit type conversion\n",
    "a=98\n",
    "b=0.5\n",
    "c=a+b\n",
    "print(type(a))\n",
    "print(type(b))\n",
    "print(c)  # it automatically converts the a variable to float type\n",
    "print(type(c))"
   ]
  },
  {
   "cell_type": "markdown",
   "id": "eddb2cbd-eef4-4c95-98a9-ecaade4a39cf",
   "metadata": {},
   "source": [
    "b)**Explicit type conversion**:In Explicit type conversion,The user converts one data type to another according to his own need and it includes user involvement and achieved using functions such as int(),str() etc."
   ]
  },
  {
   "cell_type": "code",
   "execution_count": 2,
   "id": "ff4147e7-d72a-47be-95f2-d11e8f5a52e7",
   "metadata": {},
   "outputs": [
    {
     "name": "stdout",
     "output_type": "stream",
     "text": [
      "<class 'int'>\n",
      "<class 'str'>\n",
      "98hello\n",
      "<class 'str'>\n"
     ]
    }
   ],
   "source": [
    "#explicit type conversion\n",
    "a=98  \n",
    "b=\"hello\"\n",
    "print(type(a))\n",
    "print(type(b))\n",
    "#a+b,will give error as they have different data type \n",
    "#for further execution we have to make the datatype similar.\n",
    "a=str(a)  #user involvement\n",
    "c=a+b\n",
    "print(c) \n",
    "print(type(c))"
   ]
  },
  {
   "cell_type": "markdown",
   "id": "dabe2b10-7f19-4004-b76d-0778246ed365",
   "metadata": {},
   "source": [
    "Q4. How do you write and execute a Python script from the command line?"
   ]
  },
  {
   "cell_type": "markdown",
   "id": "38e85354-0dec-4ce2-a18d-d7b4fdf63514",
   "metadata": {},
   "source": [
    "Ans)**Steps to excute a python script from command line**:  \n",
    "1)Open a text editor and write the required code of python in the text editor and save the file with a \".py\" extension. eg.demo.py  \n",
    "2)Now for execution,open the command line interface and navigate to the directory where your python script is saved using the \"cd\" command.  \n",
    "3)Execute the python script by writing python before your file name. eg. python demo.py  \n",
    "4)After you run the command, you will see the output of the script in your command line."
   ]
  },
  {
   "cell_type": "markdown",
   "id": "9f58f0a6-4543-4116-847d-7ab95896babd",
   "metadata": {},
   "source": [
    "Q5. Given a list my_list = [1, 2, 3, 4, 5], write the code to slice the list and obtain the sub-list [2, 3]."
   ]
  },
  {
   "cell_type": "code",
   "execution_count": 37,
   "id": "a722f1dd-48a9-4d5f-a4ca-7878f07d166d",
   "metadata": {},
   "outputs": [
    {
     "name": "stdout",
     "output_type": "stream",
     "text": [
      "[2, 3]\n"
     ]
    }
   ],
   "source": [
    "list = [1, 2, 3, 4, 5]\n",
    "print(list[1:3])"
   ]
  },
  {
   "cell_type": "markdown",
   "id": "771fef03-fb31-4908-820b-d5cbbb7a8c86",
   "metadata": {},
   "source": [
    "Q6. What is a complex number in mathematics, and how is it represented in Python?"
   ]
  },
  {
   "cell_type": "markdown",
   "id": "de3536a2-9515-45ea-a14c-2ac0ebf2055e",
   "metadata": {},
   "source": [
    "Ans)Complex number is a number that comprises of a real part and an imaginary part such as (a+bi) where, 'a' is the real part and 'bi' is the imaginary part.For a complex number z:  \n",
    "z.real gives the real part where as z.imag gives the imaginary part and both of which are represented internally as float values.But in python the complex number is represented as(a+bj),where a is real and bj is imaginary part."
   ]
  },
  {
   "cell_type": "code",
   "execution_count": 42,
   "id": "d58d1fca-b6c6-41c6-aa8e-4e7a4253a75b",
   "metadata": {},
   "outputs": [
    {
     "name": "stdout",
     "output_type": "stream",
     "text": [
      "(3+5j)\n",
      "(8+3j)\n",
      "<class 'float'>\n",
      "<class 'complex'>\n"
     ]
    }
   ],
   "source": [
    "z=complex(3,5)  #declaring complex numbers z and z1\n",
    "z1=8+3j\n",
    "print(z)\n",
    "print(z1)\n",
    "print(type(z.real))\n",
    "print(type(z1))"
   ]
  },
  {
   "cell_type": "markdown",
   "id": "42a1f0bc-247f-43b4-aa71-70ca8850dab4",
   "metadata": {},
   "source": [
    "Q7. What is the correct way to declare a variable named age and assign the value 25 to it?"
   ]
  },
  {
   "cell_type": "code",
   "execution_count": 5,
   "id": "b3e457d7-9a55-4a37-bfba-fe91c60b23fc",
   "metadata": {},
   "outputs": [
    {
     "data": {
      "text/plain": [
       "25"
      ]
     },
     "execution_count": 5,
     "metadata": {},
     "output_type": "execute_result"
    }
   ],
   "source": [
    "age=25 #this creates a \n",
    "age"
   ]
  },
  {
   "cell_type": "markdown",
   "id": "a106cd5e-d2e6-4784-97a2-968a6e9e87ce",
   "metadata": {},
   "source": [
    "Q8. Declare a variable named price and assign the value 9.99 to it. What data type does this variable\n",
    "belong to?"
   ]
  },
  {
   "cell_type": "code",
   "execution_count": 6,
   "id": "dd2e8e57-1e58-41ba-b702-8073fba1c575",
   "metadata": {},
   "outputs": [
    {
     "name": "stdout",
     "output_type": "stream",
     "text": [
      "<class 'float'>\n"
     ]
    }
   ],
   "source": [
    "price=9.99\n",
    "print(type(price)) "
   ]
  },
  {
   "cell_type": "markdown",
   "id": "5f472e6a-03ed-4eb7-bb36-bba2d4cc4564",
   "metadata": {},
   "source": [
    "Q9. Create a variable named name and assign your full name to it as a string. How would you print the\n",
    "value of this variable?"
   ]
  },
  {
   "cell_type": "code",
   "execution_count": 36,
   "id": "e9dea09a-ac2d-4c1a-84d3-28d56455970c",
   "metadata": {},
   "outputs": [
    {
     "name": "stdout",
     "output_type": "stream",
     "text": [
      "Dibyakanta\n",
      "D\n",
      "i\n",
      "b\n",
      "y\n",
      "a\n",
      "k\n",
      "a\n",
      "n\n",
      "t\n",
      "a\n"
     ]
    },
    {
     "data": {
      "text/plain": [
       "'Dibyakanta'"
      ]
     },
     "execution_count": 36,
     "metadata": {},
     "output_type": "execute_result"
    }
   ],
   "source": [
    "name=\"Dibyakanta\"\n",
    "print(name)\n",
    "for i in name:\n",
    "    print(i)\n",
    "name[0:10]"
   ]
  },
  {
   "cell_type": "markdown",
   "id": "6e514b47-52ce-4129-841d-19646f1eb90b",
   "metadata": {},
   "source": [
    "Q10. Given the string \"Hello, World!\", extract the substring \"World\"."
   ]
  },
  {
   "cell_type": "code",
   "execution_count": 8,
   "id": "70f98e15-c14e-4498-ab32-ddd87c261d17",
   "metadata": {},
   "outputs": [
    {
     "name": "stdout",
     "output_type": "stream",
     "text": [
      "WORLD\n",
      "WORLD\n"
     ]
    }
   ],
   "source": [
    "st=\"HELLO WORLD\"\n",
    "a=st[6:11]\n",
    "b=st[-5:]\n",
    "print(a)\n",
    "print(b)"
   ]
  },
  {
   "cell_type": "markdown",
   "id": "c2fcd45a-8db9-45a2-b487-d34c3e264bc5",
   "metadata": {},
   "source": [
    "Q11. Create a variable named \"is_student\" and assign it a boolean value indicating whether you are\n",
    "currently a student or not."
   ]
  },
  {
   "cell_type": "code",
   "execution_count": 23,
   "id": "86237736-5d0a-4ff9-a89d-b8efdf625e86",
   "metadata": {},
   "outputs": [
    {
     "name": "stdin",
     "output_type": "stream",
     "text": [
      "Enter your student status either True or False: true\n"
     ]
    },
    {
     "name": "stdout",
     "output_type": "stream",
     "text": [
      "True\n",
      "<class 'bool'>\n"
     ]
    }
   ],
   "source": [
    "a=bool(input(\"Enter your student status either True or False:\"))\n",
    "is_student=a\n",
    "print(a)\n",
    "print(type(a))"
   ]
  },
  {
   "cell_type": "code",
   "execution_count": null,
   "id": "85912716-af61-45df-bc50-4ba1fa7499b0",
   "metadata": {},
   "outputs": [],
   "source": []
  }
 ],
 "metadata": {
  "kernelspec": {
   "display_name": "Python 3 (ipykernel)",
   "language": "python",
   "name": "python3"
  },
  "language_info": {
   "codemirror_mode": {
    "name": "ipython",
    "version": 3
   },
   "file_extension": ".py",
   "mimetype": "text/x-python",
   "name": "python",
   "nbconvert_exporter": "python",
   "pygments_lexer": "ipython3",
   "version": "3.10.8"
  }
 },
 "nbformat": 4,
 "nbformat_minor": 5
}
